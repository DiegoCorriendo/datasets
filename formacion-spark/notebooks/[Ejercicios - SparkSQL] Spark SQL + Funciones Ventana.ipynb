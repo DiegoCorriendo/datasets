{
  "cells": [
    {
      "cell_type": "markdown",
      "metadata": {},
      "source": [
        "## _Metodo auxiliar display(df)_\n",
        "\n",
        "```py\n",
        "def display(df):\n",
        "    return df.limit(10).toPandas().head()\n",
        "```"
      ]
    },
    {
      "cell_type": "code",
      "execution_count": 18,
      "metadata": {},
      "outputs": [],
      "source": []
    },
    {
      "cell_type": "markdown",
      "metadata": {},
      "source": [
        "# Preparacion de los datos.\n",
        "\n",
        "Los datos corresponden al fichero `futbol.csv` disponible en la carpeta de datos on los resultados, goles, tarjetas... de la temporada actual de la liga hasta la última jornada disputada. \n",
        "\n",
        "Carga de los datos en un DataFrame con Pyspark utilizando el método habitual, le llamamos `df`. \n",
        "\n",
        "Inicializamos nuestro SparkContext y SparkSession con funcionalidad para Spark SQL.\n",
        "Será necesario importar también la clase de las funciones SQL para PySpark.\n",
        "\n",
        "Comprobar con alguno de los métodos vistos que la informacion se ha cargado correctamente."
      ]
    },
    {
      "cell_type": "code",
      "execution_count": 45,
      "metadata": {},
      "outputs": [],
      "source": []
    },
    {
      "cell_type": "code",
      "execution_count": 20,
      "metadata": {},
      "outputs": [],
      "source": []
    },
    {
      "cell_type": "code",
      "execution_count": 21,
      "metadata": {},
      "outputs": [],
      "source": []
    },
    {
      "cell_type": "markdown",
      "metadata": {},
      "source": [
        "### Obtener los parametros estadísticos de una serie de columnas determinadas.\n",
        "En este caso concreto lo haremos para las columnas de goles y tarjetas amarillas, para poder ver sus estadisticas.\n",
        "\n",
        "`FTHG', 'FTAG', 'HY', 'AY', 'HR', 'AR'`"
      ]
    },
    {
      "cell_type": "code",
      "execution_count": 22,
      "metadata": {},
      "outputs": [],
      "source": []
    },
    {
      "cell_type": "markdown",
      "metadata": {},
      "source": [
        "### Obtener parametros estadisticos de un equipo concreto.\n",
        "Por ejemplo, el Leganes."
      ]
    },
    {
      "cell_type": "code",
      "execution_count": 23,
      "metadata": {},
      "outputs": [],
      "source": []
    },
    {
      "cell_type": "markdown",
      "metadata": {},
      "source": [
        "### Extraer unicamente las variables que se van a utilizar en el análisis\n",
        "Equipo local, visitante, resultado al descanso, goles del local al final del partido...\n",
        "\n",
        "`'Div', 'Date', 'Time', 'HomeTeam', 'AwayTeam', 'FTHG', 'FTAG', 'FTR', 'HTHG', 'HTAG', 'HTR', 'HS', 'AS', 'HST', 'AST', 'HF', 'AF'`"
      ]
    },
    {
      "cell_type": "code",
      "execution_count": 24,
      "metadata": {},
      "outputs": [],
      "source": []
    },
    {
      "cell_type": "markdown",
      "metadata": {},
      "source": [
        "### Cachear el dataframe "
      ]
    },
    {
      "cell_type": "code",
      "execution_count": 25,
      "metadata": {},
      "outputs": [],
      "source": []
    },
    {
      "cell_type": "markdown",
      "metadata": {},
      "source": [
        "# Operaciones de agrupacion con sql.functions\n",
        "\n",
        "### Obtener la media de goles de cada equipo como local y como visitante."
      ]
    },
    {
      "cell_type": "markdown",
      "metadata": {},
      "source": [
        "#### Local"
      ]
    },
    {
      "cell_type": "code",
      "execution_count": 26,
      "metadata": {},
      "outputs": [],
      "source": []
    },
    {
      "cell_type": "markdown",
      "metadata": {},
      "source": [
        "#### Visitante"
      ]
    },
    {
      "cell_type": "code",
      "execution_count": 27,
      "metadata": {},
      "outputs": [],
      "source": []
    },
    {
      "cell_type": "markdown",
      "metadata": {},
      "source": [
        "### Calcular las FALTAS TOTALES por equipo a lo largo de la temporada.\n",
        "Primero calculamos las faltas totales como LOCAL y \n",
        "a continuación como VISITANTE (suma de `AF`).\n",
        "\n",
        "Para su visualización las ordenamos por el total de faltas. \n",
        "\n",
        "Además, cambiaremos el nombre de la columna \"HomeTeam\" y \"AwayTeam\" por el de \"Equipo\" para \n",
        "después utilizarlo en la comparación al realizar el JOIN, con el calcularemos el total de faltas más tarde.\n"
      ]
    },
    {
      "cell_type": "markdown",
      "metadata": {},
      "source": [
        "#### Local"
      ]
    },
    {
      "cell_type": "code",
      "execution_count": 28,
      "metadata": {},
      "outputs": [],
      "source": []
    },
    {
      "cell_type": "markdown",
      "metadata": {},
      "source": [
        "#### Visitante"
      ]
    },
    {
      "cell_type": "code",
      "execution_count": 29,
      "metadata": {},
      "outputs": [],
      "source": []
    },
    {
      "cell_type": "markdown",
      "metadata": {},
      "source": [
        "#### Calcular el total de faltas a partir de los dos resultados anteriores\n",
        "_Utilizando funciones JOIN_"
      ]
    },
    {
      "cell_type": "code",
      "execution_count": 30,
      "metadata": {},
      "outputs": [],
      "source": []
    },
    {
      "cell_type": "markdown",
      "metadata": {},
      "source": [
        "### Obtener la media de faltas de cada equipo como LOCAL y como VISITANTE\n",
        "Para contextualizar el dato anterior"
      ]
    },
    {
      "cell_type": "markdown",
      "metadata": {},
      "source": [
        "#### Local"
      ]
    },
    {
      "cell_type": "code",
      "execution_count": 31,
      "metadata": {},
      "outputs": [],
      "source": []
    },
    {
      "cell_type": "markdown",
      "metadata": {},
      "source": [
        "#### Visitante"
      ]
    },
    {
      "cell_type": "code",
      "execution_count": 32,
      "metadata": {},
      "outputs": [],
      "source": []
    },
    {
      "cell_type": "markdown",
      "metadata": {},
      "source": [
        "### Funcion ANTIJOIN\n",
        "Cargar los datos en un DataFrame desde el fichero futbol_1819.csv que contiene el mismo conjunto de datos pero para la temporada anterior, y por tanto, hay ciertos equipos distintos por los ascensos y descensos.\n",
        "\n",
        "#### Obtener SÓLO los PARTIDOS como LOCALES de los EQUIPOS que DESCENDIERON en la 18/19 (GIRONA, HUESCA, RAYO)\n",
        "- Cargar los datos de la temporada anterior\n",
        "- Aislar los mismos datos de las 2 Temporadas\n",
        "> `Div', 'Date', 'HomeTeam', 'AwayTeam', 'FTHG', 'FTAG', 'FTR', 'HTHG', 'HTAG', 'HTR', 'HS', 'AS', 'HST', 'AST', 'HF', 'AF'`\n",
        "- Utilizar ANTIJOIN entre los dos dataframes.\n"
      ]
    },
    {
      "cell_type": "code",
      "execution_count": 47,
      "metadata": {},
      "outputs": [],
      "source": []
    },
    {
      "cell_type": "code",
      "execution_count": 34,
      "metadata": {},
      "outputs": [],
      "source": []
    },
    {
      "cell_type": "code",
      "execution_count": 35,
      "metadata": {},
      "outputs": [],
      "source": []
    },
    {
      "cell_type": "markdown",
      "metadata": {},
      "source": [
        "### Obtener los GOLES como LOCAL Y VISITANTE de un equipo concreto utilizando CONSULTAS SQL\n",
        "Por ejemplo, el Real Madrid."
      ]
    },
    {
      "cell_type": "markdown",
      "metadata": {},
      "source": [
        "#### Local"
      ]
    },
    {
      "cell_type": "code",
      "execution_count": 48,
      "metadata": {},
      "outputs": [],
      "source": []
    },
    {
      "cell_type": "markdown",
      "metadata": {},
      "source": [
        "#### Visitante"
      ]
    },
    {
      "cell_type": "code",
      "execution_count": 49,
      "metadata": {},
      "outputs": [],
      "source": []
    },
    {
      "cell_type": "markdown",
      "metadata": {},
      "source": [
        "### Comparar los resultados obtenidos con el resto de equipos.\n",
        "\n",
        "#### Local"
      ]
    },
    {
      "cell_type": "code",
      "execution_count": 50,
      "metadata": {},
      "outputs": [],
      "source": []
    },
    {
      "cell_type": "markdown",
      "metadata": {},
      "source": [
        "#### Visitante"
      ]
    },
    {
      "cell_type": "code",
      "execution_count": 51,
      "metadata": {},
      "outputs": [],
      "source": []
    },
    {
      "cell_type": "markdown",
      "metadata": {},
      "source": [
        "### Calcular el TOTAL DE AMARILLAS y el MIN de amarillas y MAX de amarillas como LOCAL usando CONSULTAS SQL"
      ]
    },
    {
      "cell_type": "code",
      "execution_count": 52,
      "metadata": {},
      "outputs": [],
      "source": []
    },
    {
      "cell_type": "markdown",
      "metadata": {},
      "source": [
        "### Si todos los partidos se hubieran jugado solamente hasta el descanso. \n",
        "#### ¿Cuál sería la clasificación de la Liga?\n",
        "\n",
        "Funcion SQL `when(...)`\n",
        "\n",
        "#### Puntos como local hasta el descnaso.\n",
        "\n",
        "- Calculamos los puntos como LOCAL, nos ayudamos de la función WHEN OTHERWISE, en un nuevo Dataframe nos quedamos con los equipos locales (HomeTeam) convertimos en puntos (3 victoria, 1 empate, 0 derrota) cada partido disputado de cada equipo. Para ello, tenemos en cuenta el campo HTR (Half Time Result), si es H victoria de equipo local -> 3 puntos, si es D empate ->1, y en otro caso 0.\n"
      ]
    },
    {
      "cell_type": "code",
      "execution_count": 53,
      "metadata": {},
      "outputs": [],
      "source": []
    },
    {
      "cell_type": "markdown",
      "metadata": {},
      "source": [
        "- Una vez tenemos un Dataframe con los equipos locales y sus puntuaciones por partido calculamos la suma de los puntos por equipo en otro Dataframe"
      ]
    },
    {
      "cell_type": "code",
      "execution_count": 54,
      "metadata": {},
      "outputs": [],
      "source": []
    },
    {
      "cell_type": "markdown",
      "metadata": {},
      "source": [
        "#### Puntos como Visitante hasta el descanso."
      ]
    },
    {
      "cell_type": "markdown",
      "metadata": {},
      "source": [
        "- Análogamente, calculamos los puntos como VISITANTE, en un nuevo Dataframe nos quedamos con los equipos visitantes (awayTeam) convertimos en puntos (3 victoria, 1 empate, 0 derrota) cada partido disputado de cada equipo. Para ello, tenemos en cuenta el campo HTR, si es A victoria de equipo visitante -> 3 puntos, si es D empate ->1, y en otro caso 0. "
      ]
    },
    {
      "cell_type": "code",
      "execution_count": 55,
      "metadata": {},
      "outputs": [],
      "source": []
    },
    {
      "cell_type": "markdown",
      "metadata": {},
      "source": [
        "- Una vez tenemos un Dataframe con los equipos visitantes y sus puntuaciones por partido calculamos la suma de los puntos por equipo en otro Dataframe"
      ]
    },
    {
      "cell_type": "code",
      "execution_count": 56,
      "metadata": {},
      "outputs": [],
      "source": []
    },
    {
      "cell_type": "markdown",
      "metadata": {},
      "source": [
        "#### Puntos totales hasta el descanso.\n",
        "Uniendo los dos resultados anteriores y operamos para obtener el resultado."
      ]
    },
    {
      "cell_type": "code",
      "execution_count": 57,
      "metadata": {},
      "outputs": [],
      "source": []
    },
    {
      "cell_type": "markdown",
      "metadata": {},
      "source": [
        "# Consultas SQL adicionales\n",
        "_Regenerar la vista a partir del dataframe original_"
      ]
    },
    {
      "cell_type": "code",
      "execution_count": 58,
      "metadata": {},
      "outputs": [],
      "source": []
    },
    {
      "cell_type": "code",
      "execution_count": 59,
      "metadata": {},
      "outputs": [],
      "source": []
    },
    {
      "cell_type": "markdown",
      "metadata": {},
      "source": [
        "#### Partido se jugó en una determinada fecha y su resultado y goles.\n",
        "`16/08/2019`"
      ]
    },
    {
      "cell_type": "code",
      "execution_count": 60,
      "metadata": {},
      "outputs": [],
      "source": []
    },
    {
      "cell_type": "markdown",
      "metadata": {},
      "source": [
        "#### Media de goles de partidos jugados como LOCAL de un equipo concreto."
      ]
    },
    {
      "cell_type": "code",
      "execution_count": 61,
      "metadata": {},
      "outputs": [],
      "source": []
    },
    {
      "cell_type": "markdown",
      "metadata": {},
      "source": [
        "#### Media de goles de partidos jugados como VISITANTE de un equipo concreto."
      ]
    },
    {
      "cell_type": "code",
      "execution_count": 62,
      "metadata": {},
      "outputs": [],
      "source": []
    },
    {
      "cell_type": "markdown",
      "metadata": {},
      "source": [
        "# Formatos de escritura\n",
        "\n",
        "- **COALESCE:**\n",
        "Reduce el número de particiones en un DataFrame combinando particiones existentes para evitar una mezcla completa.\n",
        "\n",
        "- **REPARTITION:**\n",
        "Suele utilizarse para aumentar o disminuir el número de particiones en un DataFrame, hace una mezcla completa de los datos y distribuye de forma equitativa los datos entre las particiones.\n"
      ]
    },
    {
      "cell_type": "code",
      "execution_count": 63,
      "metadata": {},
      "outputs": [],
      "source": []
    },
    {
      "cell_type": "markdown",
      "metadata": {},
      "source": [
        "#### Compararlo con el dataframe sin alterar para ver la accion de `Repartition(...)`"
      ]
    },
    {
      "cell_type": "code",
      "execution_count": 64,
      "metadata": {},
      "outputs": [],
      "source": []
    },
    {
      "cell_type": "markdown",
      "metadata": {},
      "source": [
        "# Otras funciones. \n",
        "\n",
        "### Funcion CROSSTAB\n",
        "- **CROSSTAB:**\n",
        "Recuento de la combinación de los valores de dos variables categóricas, resultado final (FTR) y equipo local (HomeTeam), al ser 20 equipos    nos vamos a ayudar de la librería Pandas TRANSPOSE para favorecer su visualización.\n",
        "\n",
        "##### Obtener la relación de victorias, derrotas y empates de los equipos como locales"
      ]
    },
    {
      "cell_type": "code",
      "execution_count": 65,
      "metadata": {},
      "outputs": [],
      "source": []
    },
    {
      "cell_type": "markdown",
      "metadata": {},
      "source": [
        "### Coeficiente de Pearson\n",
        "#### Calcula el coeficiente de correlación de Pearson para dos columnas de nuestro dataframe.\n",
        "_Cuanto más cercano a 1 más fuerte es la correlación_\n",
        "\n",
        "Buscaremos la correlación entre los goles al final del partido y los tiros del equipo local y del visitante.\n",
        "\n",
        "`FTHG, HS` & `FTAG, AS`"
      ]
    },
    {
      "cell_type": "code",
      "execution_count": 66,
      "metadata": {},
      "outputs": [],
      "source": []
    },
    {
      "cell_type": "code",
      "execution_count": 67,
      "metadata": {},
      "outputs": [],
      "source": []
    },
    {
      "cell_type": "markdown",
      "metadata": {},
      "source": [
        "# Tratamento de fechas\n",
        "\n",
        "### Obtener por AÑO cuantos GOLES marcaron los equipos LOCALES y los VISITANTES\n",
        "_Usamos funciones YEAR y FROM_UNIXTIME, UNIX_TIMESTAMP para tratar la columna DATE (era de tipos STRING)_\n",
        "\n",
        "\n",
        "De todo el df nos quedamos con las variables interesantes para nuestro análisis: \n",
        "> Equipo local, visitante, resultado al descanso, goles del local al final del partido...\n",
        "\n",
        "`Div', 'Date', 'Time', 'HomeTeam', 'AwayTeam', 'FTHG', 'FTAG', 'FTR', 'HTHG', 'HTAG', 'HTR', 'HS', 'AS', 'HST', 'AST', 'HF', 'AF'`\n",
        "\n",
        "Imprimimos el esquema y el conjunto para asegurar que esta cargado y comprobar los tipos de datos.\n"
      ]
    },
    {
      "cell_type": "code",
      "execution_count": 68,
      "metadata": {},
      "outputs": [],
      "source": []
    },
    {
      "cell_type": "code",
      "execution_count": 69,
      "metadata": {},
      "outputs": [],
      "source": []
    },
    {
      "cell_type": "markdown",
      "metadata": {},
      "source": [
        "#### Usamos funciones FROM_UNIXTIME y UNIX_TIMESTAMP para tratar la columna DATE (era de tipos STRING)"
      ]
    },
    {
      "cell_type": "code",
      "execution_count": 70,
      "metadata": {},
      "outputs": [],
      "source": []
    },
    {
      "cell_type": "markdown",
      "metadata": {},
      "source": [
        "#### Local"
      ]
    },
    {
      "cell_type": "code",
      "execution_count": 71,
      "metadata": {},
      "outputs": [],
      "source": []
    },
    {
      "cell_type": "markdown",
      "metadata": {},
      "source": [
        "#### Visitante"
      ]
    },
    {
      "cell_type": "code",
      "execution_count": 72,
      "metadata": {},
      "outputs": [],
      "source": []
    },
    {
      "cell_type": "markdown",
      "metadata": {},
      "source": [
        "# Funciones de Ventana\n",
        "\n",
        "### Obtener la MEDIA de GOLES como LOCAL de los partidos jugados el mismo día usando FUNCIONES de VENTANA"
      ]
    },
    {
      "cell_type": "markdown",
      "metadata": {},
      "source": [
        "#### Creamos una columna nueva con la media los goles de los equipos locales por DATE (partitionBy)"
      ]
    },
    {
      "cell_type": "code",
      "execution_count": 73,
      "metadata": {},
      "outputs": [],
      "source": []
    },
    {
      "cell_type": "markdown",
      "metadata": {},
      "source": [
        "# Lectura y Escritura en formato PARQUET\n",
        "\n",
        "```py\n",
        "df4.write.save(\"/target/path/\", format=\"parquet\", mode=\"append\")\n",
        "\n",
        "sqlContext.read.format(\"csv\").load(\"/target/path/\")\n",
        "```"
      ]
    },
    {
      "cell_type": "code",
      "execution_count": null,
      "metadata": {},
      "outputs": [],
      "source": []
    }
  ],
  "metadata": {
    "kernelspec": {
      "display_name": "Python 3",
      "language": "python",
      "name": "python3"
    },
    "language_info": {
      "codemirror_mode": {
        "name": "ipython",
        "version": 3
      },
      "file_extension": ".py",
      "mimetype": "text/x-python",
      "name": "python",
      "nbconvert_exporter": "python",
      "pygments_lexer": "ipython3",
      "version": "3.7.5"
    },
    "name": "EJERCICIO TEMPORADA 2019-20",
    "notebookId": 1093930676633154
  },
  "nbformat": 4,
  "nbformat_minor": 1
}
