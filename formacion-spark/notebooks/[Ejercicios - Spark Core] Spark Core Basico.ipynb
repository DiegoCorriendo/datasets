{
 "cells": [
  {
   "cell_type": "markdown",
   "metadata": {},
   "source": [
    "# Ejercicios Spark Core\n",
    "\n",
    "A lo largo de las diapositivas se iran referenciando enunciados presentes en este documento para ir abordandolos a medida que se introduzcan los conceptos.\n",
    "\n",
    "## 1.- Preparacion de Entorno Spark\n",
    "\n",
    "### Ejercicio 1.1 - Contexto y Configuracion\n",
    "Definir un contexto de Spark con una configuracion en la que el nodo maestro (local) utilice `2` hilos de ejecucion y la aplicacion se llame `Ejercicio 1` para posteriormente cargar el fichero `/data/ventas.csv`"
   ]
  },
  {
   "cell_type": "code",
   "execution_count": 1,
   "metadata": {},
   "outputs": [],
   "source": []
  },
  {
   "cell_type": "markdown",
   "metadata": {},
   "source": [
    "### Ejercicio 1.2 - Uso de map( ) y flatMap( )\n",
    "Para poder ir controlando y visualizando los resultados obtenidos se van a ir incluyendo junto a las **TRANSFORMACIONES**, funciones de **ACCION** como **take(_n_)** o **count( )** que van a permitir evaluar el estado del RDD trabajado."
   ]
  },
  {
   "cell_type": "code",
   "execution_count": 5,
   "metadata": {},
   "outputs": [],
   "source": []
  },
  {
   "cell_type": "markdown",
   "metadata": {},
   "source": [
    "## Ejercicio 1.3 - Uso de filter( )\n",
    "En este caso se utilizará el metodo filter() para filtrar una lista de los 100 primeros numeros manteniendo solo los que son pares."
   ]
  },
  {
   "cell_type": "code",
   "execution_count": 7,
   "metadata": {},
   "outputs": [],
   "source": []
  },
  {
   "cell_type": "markdown",
   "metadata": {},
   "source": [
    "## 2.- Ejercicios Finales\n",
    "\n",
    "### Ejercicio 2.1 Temperatura\n",
    "`/data/1800.csv`\n",
    "\n",
    "| estación meteorologíca | fecha día | tipo de medicion | valor | [...] |\n",
    "|------------------------|-----------|------------------|-------|-------|\n",
    "| ...                    | ...       | ...              | ...   | ...   |"
   ]
  },
  {
   "cell_type": "markdown",
   "metadata": {},
   "source": [
    "- Obtener la localización (estación) con la mínima temperatura registrada."
   ]
  },
  {
   "cell_type": "code",
   "execution_count": 10,
   "metadata": {},
   "outputs": [],
   "source": []
  },
  {
   "cell_type": "markdown",
   "metadata": {},
   "source": [
    "- Obtener las máximas temperaturas para cada estación."
   ]
  },
  {
   "cell_type": "code",
   "execution_count": null,
   "metadata": {},
   "outputs": [],
   "source": []
  },
  {
   "cell_type": "markdown",
   "metadata": {},
   "source": [
    "- Obtener el día para el que se ha registrado un mayor número de precipitaciones, junto con la localización y el volumen."
   ]
  },
  {
   "cell_type": "code",
   "execution_count": null,
   "metadata": {},
   "outputs": [],
   "source": []
  },
  {
   "cell_type": "markdown",
   "metadata": {},
   "source": [
    "### Ejercicio 2.2 Red social de amigos\n",
    "`/data/amigosRedSocial.csv`\n",
    "| id                     | nombre    | edad             | numero de amigos |\n",
    "|------------------------|-----------|------------------|------------------|\n",
    "| ...                    | ...       | ...              | ...              |"
   ]
  },
  {
   "cell_type": "markdown",
   "metadata": {},
   "source": [
    "- Obtener número medio de amigos por edad."
   ]
  },
  {
   "cell_type": "code",
   "execution_count": null,
   "metadata": {},
   "outputs": [],
   "source": []
  },
  {
   "cell_type": "markdown",
   "metadata": {},
   "source": [
    "- Obtener el mismo resultado pero mostrando el nombre del usuario."
   ]
  },
  {
   "cell_type": "code",
   "execution_count": null,
   "metadata": {},
   "outputs": [],
   "source": []
  },
  {
   "cell_type": "markdown",
   "metadata": {},
   "source": [
    "### Ejercicio 2.3 El Quijote\n",
    "`/data/quijote.txt`"
   ]
  },
  {
   "cell_type": "markdown",
   "metadata": {},
   "source": [
    "- Obtener el recuento de palabras."
   ]
  },
  {
   "cell_type": "code",
   "execution_count": 11,
   "metadata": {},
   "outputs": [],
   "source": []
  },
  {
   "cell_type": "markdown",
   "metadata": {},
   "source": [
    "- Devolver una muestra de 10 palabras."
   ]
  },
  {
   "cell_type": "code",
   "execution_count": null,
   "metadata": {},
   "outputs": [],
   "source": []
  },
  {
   "cell_type": "markdown",
   "metadata": {},
   "source": [
    "- Mejorar el ejercicio anterior para normalizar las palabras.\n",
    "    - Mayusculas - Minúsculas.\n",
    "    - Expresiones regulares.\n",
    "    - Ordenar el resultado en orden descendente."
   ]
  },
  {
   "cell_type": "code",
   "execution_count": null,
   "metadata": {},
   "outputs": [],
   "source": []
  },
  {
   "cell_type": "markdown",
   "metadata": {},
   "source": [
    "### Ejercicio 2.4 Ventas\n",
    "`/data/ventas.csv/`\n",
    "id cliente, id producto, gasto en euros, …\n",
    "| id cliente             | id producto | gasto en euros   | [...] |\n",
    "|------------------------|-------------|------------------|-------|\n",
    "| ...                    | ...         | ...              | ...   |"
   ]
  },
  {
   "cell_type": "markdown",
   "metadata": {},
   "source": [
    "- Gasto total agrupado por cliente"
   ]
  },
  {
   "cell_type": "code",
   "execution_count": null,
   "metadata": {},
   "outputs": [],
   "source": []
  },
  {
   "cell_type": "markdown",
   "metadata": {},
   "source": [
    "- Ordenado en orden descendente sobre el anterior"
   ]
  },
  {
   "cell_type": "code",
   "execution_count": null,
   "metadata": {},
   "outputs": [],
   "source": []
  },
  {
   "cell_type": "markdown",
   "metadata": {},
   "source": [
    "- Gasto medio por cliente en lugar de gasto total."
   ]
  },
  {
   "cell_type": "code",
   "execution_count": null,
   "metadata": {},
   "outputs": [],
   "source": []
  },
  {
   "cell_type": "markdown",
   "metadata": {},
   "source": [
    "- Gasto máximo por cliente en lugar de gasto total."
   ]
  },
  {
   "cell_type": "code",
   "execution_count": null,
   "metadata": {},
   "outputs": [],
   "source": []
  },
  {
   "cell_type": "markdown",
   "metadata": {},
   "source": [
    "- Filtrar set inicial _(antes de realizar el primer punto)_ por producto 973."
   ]
  },
  {
   "cell_type": "code",
   "execution_count": null,
   "metadata": {},
   "outputs": [],
   "source": []
  },
  {
   "cell_type": "markdown",
   "metadata": {},
   "source": [
    "### Ejercicio 2.5 Super Heroes más populares\n",
    "\n",
    "`/data/nombre_marvel.txt`\n",
    "| id superheroe          | nombre    | grafo_marvel     |\n",
    "|------------------------|-----------|------------------|\n",
    "| ...                    | ...       | ...              |\n",
    "\n",
    "`/data/grafo_marvel.txt`\n",
    "| id superheroe          | id_amigo1 | id_amigo2        | id amigo n | [...] |\n",
    "|------------------------|-----------|------------------|------------|------ |\n",
    "| ...                    | ...       | ...              | ...        |  ...  |"
   ]
  },
  {
   "cell_type": "markdown",
   "metadata": {},
   "source": [
    "- Obtener el id del superheroe que aparece con más personajes en el mismo comic."
   ]
  },
  {
   "cell_type": "code",
   "execution_count": null,
   "metadata": {},
   "outputs": [],
   "source": []
  }
 ],
 "metadata": {
  "kernelspec": {
   "display_name": "Python 3",
   "language": "python",
   "name": "python3"
  },
  "language_info": {
   "codemirror_mode": {
    "name": "ipython",
    "version": 3
   },
   "file_extension": ".py",
   "mimetype": "text/x-python",
   "name": "python",
   "nbconvert_exporter": "python",
   "pygments_lexer": "ipython3",
   "version": "3.7.5"
  }
 },
 "nbformat": 4,
 "nbformat_minor": 4
}
