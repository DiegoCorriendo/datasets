{
  "cells": [
    {
      "cell_type": "markdown",
      "metadata": {},
      "source": [
        "## Funciones Ventana en Spark"
      ]
    },
    {
      "cell_type": "markdown",
      "metadata": {},
      "source": [
        "Durante el desarrollo de este ejercicio se trabajará con las funcionalidades básicas de las funciones ventana para familiarizarse con el concepto y seguir profundizando en este concepto dentro de Spark y en general de Spark SQL con el objetivo de abordar posteriormente un ejercicio algo mas complejo."
      ]
    },
    {
      "cell_type": "markdown",
      "metadata": {},
      "source": [
        "### _Funcionalidad extra para facilitar la visualizacion de datos_\n",
        "```py\n",
        "import pandas\n",
        "\n",
        "def display(df):\n",
        "    return df.limit(10).toPandas() #.head() #opcional\n",
        "```"
      ]
    },
    {
      "cell_type": "code",
      "execution_count": 56,
      "metadata": {},
      "outputs": [],
      "source": []
    },
    {
      "cell_type": "markdown",
      "metadata": {},
      "source": [
        "### Importar las funcionalidades necesarias para el ejercicio\n",
        "Para este ejercicio se deben incluir las funcionalidades de:\n",
        "- Funciones ventana\n",
        "- Tipos de datos\n",
        "- Funciones SQL (avg, col, sum, desc, rank, dense_rank, ntile, percent_rank, row_number, lag, lead, when)"
      ]
    },
    {
      "cell_type": "code",
      "execution_count": 91,
      "metadata": {},
      "outputs": [],
      "source": []
    },
    {
      "cell_type": "markdown",
      "metadata": {},
      "source": [
        "### Dataset de ejemplo\n",
        "El conjunto de datos de ejemplo tiene 4 columnas:\n",
        "- depName: Nombre del departamento, con tres valores distintos en el dataset.\n",
        "- empNo: Numero identificador del empleado.\n",
        "- salary: Salario del empleado. La mayoria de ellos tienen salarios distintos aunque algunos de ellos coinciden para el caso de ejemplo.\n",
        "- hobby: Lista de hobbies de los empleados, utilizado para alguno de los ejemplos.\n",
        "\n",
        "Está disponible dentro del fichero employees.csv con separador `;`\n",
        "\n",
        "Cargar el fichero utilizando las funciones vistas de read.csv(...) con la configuracion adecuada y comprobar la carga con alguna funcion."
      ]
    },
    {
      "cell_type": "code",
      "execution_count": null,
      "metadata": {},
      "outputs": [],
      "source": []
    },
    {
      "cell_type": "code",
      "execution_count": 15,
      "metadata": {},
      "outputs": [],
      "source": []
    },
    {
      "cell_type": "code",
      "execution_count": 16,
      "metadata": {},
      "outputs": [],
      "source": []
    },
    {
      "cell_type": "code",
      "execution_count": 46,
      "metadata": {},
      "outputs": [],
      "source": []
    },
    {
      "cell_type": "code",
      "execution_count": 24,
      "metadata": {},
      "outputs": [],
      "source": []
    },
    {
      "cell_type": "markdown",
      "metadata": {},
      "source": [
        "### Ventana básica utilizando partitionBy\n",
        "\n",
        "Una ventana de Spark tiene las caracteristicas:\n",
        "- Puede definirse sobre una o varias columnas en funcion de la especificacion de `partitionBy(...)`\n",
        "- Cada fila corresponde a una ventana determinada.\n",
        "- Las funciones de agregacion se pueden aplicar por cada par fila, ventana para generar un valor unico.\n",
        "\n",
        "Crear una ventana para agrupar por `depName` y obtener en una columna nueva el salario medio y el salario total de los empleados en dichos departamentos."
      ]
    },
    {
      "cell_type": "markdown",
      "metadata": {},
      "source": [
        "wDepartment = Window.partitionBy('depName')"
      ]
    },
    {
      "cell_type": "markdown",
      "metadata": {},
      "source": [
        "![img](https://knockdata.github.io/images/spark-window-function-basic-window.png)"
      ]
    },
    {
      "cell_type": "code",
      "execution_count": 52,
      "metadata": {},
      "outputs": [],
      "source": []
    },
    {
      "cell_type": "code",
      "execution_count": 55,
      "metadata": {},
      "outputs": [],
      "source": []
    },
    {
      "cell_type": "markdown",
      "metadata": {},
      "source": [
        "### Ventana ordenada (partitionBy + orderBy)\n",
        "\n",
        "Crear una ventana por departamentos ordenada por salario y ver los resultados comparados con el ejemplo anterior."
      ]
    },
    {
      "cell_type": "code",
      "execution_count": 58,
      "metadata": {},
      "outputs": [],
      "source": []
    },
    {
      "cell_type": "code",
      "execution_count": 59,
      "metadata": {},
      "outputs": [],
      "source": []
    },
    {
      "cell_type": "code",
      "execution_count": 60,
      "metadata": {},
      "outputs": [],
      "source": []
    },
    {
      "cell_type": "markdown",
      "metadata": {},
      "source": [
        "### Funciones de rango\n",
        "Se utilizan para ordenar los valores en funcion de un critero dentro de la ventana definida.\n",
        "\n",
        "Crear un columna nueva con cada una de ellas para ver las posibilidades dentro de este grupo de funciones.\n",
        "\n",
        "Sobre una ventana similar a la anterior sobre `depName` ordenada por `salary`:\n",
        "- rank(): Orden dentro de la ventana.\n",
        "- dense_rank(): Orden dentro de la ventana (sin huecos entre elementos)\n",
        "- row_number(): Numero de fila secuencial en la ventana.\n",
        "- ntile( _n_ ): particion en n elementos de la ventana.\n",
        "- percent_rank(): percentiles."
      ]
    },
    {
      "cell_type": "code",
      "execution_count": 64,
      "metadata": {},
      "outputs": [],
      "source": []
    },
    {
      "cell_type": "code",
      "execution_count": 65,
      "metadata": {},
      "outputs": [],
      "source": []
    },
    {
      "cell_type": "markdown",
      "metadata": {},
      "source": [
        "### Funciones lag & lead\n",
        "Se utilizan para obtener resultados relativos entre filas y dependen del orden de las mismas.\n",
        "- lag: Obtiene la fila anterior (o la indicada segun la n)\n",
        "- lead: Obtiene la fila siguiente (o la indicada segun la n).\n",
        "\n",
        "Obtener en la ventana por departamento ordenada por salario ya utilizada el valor del salario de la fila anterior y siguiente en dos columnas nuevas."
      ]
    },
    {
      "cell_type": "code",
      "execution_count": 84,
      "metadata": {},
      "outputs": [],
      "source": []
    },
    {
      "cell_type": "code",
      "execution_count": 85,
      "metadata": {},
      "outputs": [],
      "source": []
    },
    {
      "cell_type": "markdown",
      "metadata": {},
      "source": [
        "Obtener la diferencia entre el salario de la fila actual y el de la fila anterior en una columna y la diferencia entre el salario de la fila actual y la siguiente en otra.\n",
        "\n",
        "_Utilizar el dataframe del paso anterior para utilizar las columnas lag y lead_"
      ]
    },
    {
      "cell_type": "code",
      "execution_count": 86,
      "metadata": {},
      "outputs": [],
      "source": []
    },
    {
      "cell_type": "code",
      "execution_count": 87,
      "metadata": {},
      "outputs": [],
      "source": []
    },
    {
      "cell_type": "code",
      "execution_count": 88,
      "metadata": {},
      "outputs": [],
      "source": []
    },
    {
      "cell_type": "markdown",
      "metadata": {},
      "source": [
        "Obtener el mismo resultado pero modificando los valores nulos `NaN` por `0`"
      ]
    },
    {
      "cell_type": "code",
      "execution_count": 94,
      "metadata": {},
      "outputs": [],
      "source": []
    },
    {
      "cell_type": "code",
      "execution_count": 95,
      "metadata": {},
      "outputs": [],
      "source": []
    },
    {
      "cell_type": "markdown",
      "metadata": {},
      "source": [
        "### Medida de Total acumulado\n",
        "Esta medida es bastante utilizada en algunos escenarios de análisis de datos y consiste en ir sumando sucesivamente cada una de las filas hasta la evaluada.\n",
        "\n",
        "Con los conceptos ya vistos, obtener el **Total Acumulado (Running Total)** en el escenario de departamentos ordenados por salario."
      ]
    },
    {
      "cell_type": "code",
      "execution_count": 98,
      "metadata": {},
      "outputs": [],
      "source": []
    },
    {
      "cell_type": "code",
      "execution_count": 100,
      "metadata": {},
      "outputs": [],
      "source": []
    }
  ],
  "metadata": {
    "kernelspec": {
      "display_name": "Python 3",
      "language": "python",
      "name": "python3"
    },
    "language_info": {
      "codemirror_mode": {
        "name": "ipython",
        "version": 3
      },
      "file_extension": ".py",
      "mimetype": "text/x-python",
      "name": "python",
      "nbconvert_exporter": "python",
      "pygments_lexer": "ipython3",
      "version": "3.7.5"
    }
  },
  "nbformat": 4,
  "nbformat_minor": 4
}
