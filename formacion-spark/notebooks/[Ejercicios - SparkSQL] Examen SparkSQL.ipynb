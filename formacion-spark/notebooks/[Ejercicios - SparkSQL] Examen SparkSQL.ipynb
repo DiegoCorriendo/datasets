{
 "cells": [
  {
   "cell_type": "markdown",
   "metadata": {},
   "source": [
    "# Examen SparkSQL"
   ]
  },
  {
   "cell_type": "markdown",
   "metadata": {},
   "source": [
    "_Todas las columnas a las que se aplique un alias serán nombradas en MAYÚSCULA para diferenciarlas de las columnas originales del conjunto_"
   ]
  },
  {
   "cell_type": "markdown",
   "metadata": {},
   "source": [
    "### Preparacion del Entorno\n",
    "Importar los paquetes correspondientes para poder realizar el ejercicio y definir la sesión para empezar a trabajar."
   ]
  },
  {
   "cell_type": "code",
   "execution_count": 12,
   "metadata": {},
   "outputs": [],
   "source": []
  },
  {
   "cell_type": "code",
   "execution_count": 13,
   "metadata": {},
   "outputs": [],
   "source": []
  },
  {
   "cell_type": "markdown",
   "metadata": {},
   "source": [
    "### Lectura de ficheros\n",
    "Cargar dos Dataframes con los ficheros `.../data/players` y `.../data/salaries`\n",
    "- En el primero el esquema debe ser deducido.\n",
    "- En el segundo el esquema debe ser definido por el usuario."
   ]
  },
  {
   "cell_type": "code",
   "execution_count": 14,
   "metadata": {},
   "outputs": [],
   "source": []
  },
  {
   "cell_type": "markdown",
   "metadata": {},
   "source": [
    "Imprimir los esquemas para comprobar que la carga se ha realizado correctamente"
   ]
  },
  {
   "cell_type": "code",
   "execution_count": 15,
   "metadata": {},
   "outputs": [],
   "source": []
  },
  {
   "cell_type": "code",
   "execution_count": 16,
   "metadata": {},
   "outputs": [],
   "source": []
  },
  {
   "cell_type": "code",
   "execution_count": 17,
   "metadata": {},
   "outputs": [],
   "source": []
  },
  {
   "cell_type": "markdown",
   "metadata": {},
   "source": [
    "### Obtener el salario medio, el salario total y el número de temporadas de los jugadores que solamente han \n",
    "### estado en `Los Angeles Lakers`\n",
    "\n",
    "y mostrar el resultado."
   ]
  },
  {
   "cell_type": "code",
   "execution_count": 18,
   "metadata": {},
   "outputs": [],
   "source": []
  },
  {
   "cell_type": "code",
   "execution_count": 19,
   "metadata": {},
   "outputs": [],
   "source": []
  },
  {
   "cell_type": "markdown",
   "metadata": {},
   "source": [
    "Escribir en formato csv en el fichero `JustInLakers.csv` generando 3 fragmentos como resultado."
   ]
  },
  {
   "cell_type": "code",
   "execution_count": 20,
   "metadata": {},
   "outputs": [],
   "source": []
  },
  {
   "cell_type": "markdown",
   "metadata": {},
   "source": [
    "### Obtener utilizando operaciones JOIN un DataFrame con el `id` y `name` de jugadores que han estado en `Los Angeles Lakers` alguna vez y otro con los que nunca han estado."
   ]
  },
  {
   "cell_type": "code",
   "execution_count": 21,
   "metadata": {},
   "outputs": [],
   "source": []
  },
  {
   "cell_type": "markdown",
   "metadata": {},
   "source": [
    "De aquellos que no han estado en `Los Angeles Lakers` obtener el salario total."
   ]
  },
  {
   "cell_type": "code",
   "execution_count": 22,
   "metadata": {},
   "outputs": [],
   "source": []
  },
  {
   "cell_type": "code",
   "execution_count": 23,
   "metadata": {},
   "outputs": [],
   "source": []
  },
  {
   "cell_type": "markdown",
   "metadata": {},
   "source": [
    "Escribir en formato .json en **un unico** fichero."
   ]
  },
  {
   "cell_type": "code",
   "execution_count": 24,
   "metadata": {},
   "outputs": [],
   "source": []
  },
  {
   "cell_type": "markdown",
   "metadata": {},
   "source": [
    "#### Obtener un DataFrame con los los jugadores, posiciones, año de draft y salario total.\n",
    "Como es el DatafFrame que se va a utilizar en adelante, es necesario aplicar alguna operacion para agilizar el procesamiento."
   ]
  },
  {
   "cell_type": "code",
   "execution_count": 25,
   "metadata": {},
   "outputs": [],
   "source": []
  },
  {
   "cell_type": "markdown",
   "metadata": {},
   "source": [
    "Importar expresiones para funciones ventana mediante \n",
    "```py\n",
    "from pyspark.sql import Window\n",
    "```"
   ]
  },
  {
   "cell_type": "code",
   "execution_count": 26,
   "metadata": {},
   "outputs": [],
   "source": []
  },
  {
   "cell_type": "markdown",
   "metadata": {},
   "source": [
    "**Definir las siguientes funciones de ventana:**\n",
    "\n",
    "_Siempre se tomará como referencia el salario total, aplicandole diferentes criterios según el objetivo perseguido._\n",
    "\n",
    "- Según el salario total de forma descendente.\n",
    "- Por posicion según el salario total de forma descendente.\n",
    "- Por el año de draft segun el salario total de forma descendente.\n",
    "- La comparativa con la fila anterior.\n",
    "- La comparativa con la fila siguiente.\n",
    "- Según la edad.\n",
    "- Por la generacion según el salario total."
   ]
  },
  {
   "cell_type": "code",
   "execution_count": 30,
   "metadata": {},
   "outputs": [],
   "source": []
  },
  {
   "cell_type": "markdown",
   "metadata": {},
   "source": [
    "### Obtener un Dataframe con las columnas:\n",
    "_Ademas de `name`, `position`y `draft_year`_\n",
    "    - El ranking de salario por posicion.\n",
    "    - El ranking de salario global.\n",
    "    - El ranking de salario degun el año de draft.\n",
    "    \n",
    "_Es posible que sea necesario añadir alguna funcion adicional como `rank()` desde `pyspark.sql.functions`_"
   ]
  },
  {
   "cell_type": "code",
   "execution_count": 85,
   "metadata": {},
   "outputs": [],
   "source": []
  },
  {
   "cell_type": "code",
   "execution_count": 86,
   "metadata": {},
   "outputs": [],
   "source": []
  },
  {
   "cell_type": "code",
   "execution_count": 87,
   "metadata": {},
   "outputs": [],
   "source": []
  },
  {
   "cell_type": "markdown",
   "metadata": {},
   "source": [
    "Imprimir el numero de particiones del dataset."
   ]
  },
  {
   "cell_type": "code",
   "execution_count": 88,
   "metadata": {},
   "outputs": [],
   "source": []
  },
  {
   "cell_type": "markdown",
   "metadata": {},
   "source": [
    "Escribir el resultado en formato parquet generando un fichero por cada año del draft.\n",
    "\n",
    "_Incluir las funciones necesarias para abordar las operaciones_"
   ]
  },
  {
   "cell_type": "code",
   "execution_count": 96,
   "metadata": {},
   "outputs": [],
   "source": []
  },
  {
   "cell_type": "code",
   "execution_count": 92,
   "metadata": {},
   "outputs": [],
   "source": []
  },
  {
   "cell_type": "code",
   "execution_count": null,
   "metadata": {},
   "outputs": [],
   "source": []
  },
  {
   "cell_type": "markdown",
   "metadata": {},
   "source": [
    "Imprimir el conjunto de datos."
   ]
  },
  {
   "cell_type": "code",
   "execution_count": 95,
   "metadata": {},
   "outputs": [],
   "source": []
  }
 ],
 "metadata": {
  "kernelspec": {
   "display_name": "Python 3",
   "language": "python",
   "name": "python3"
  },
  "language_info": {
   "codemirror_mode": {
    "name": "ipython",
    "version": 3
   },
   "file_extension": ".py",
   "mimetype": "text/x-python",
   "name": "python",
   "nbconvert_exporter": "python",
   "pygments_lexer": "ipython3",
   "version": "3.7.5"
  }
 },
 "nbformat": 4,
 "nbformat_minor": 4
}
