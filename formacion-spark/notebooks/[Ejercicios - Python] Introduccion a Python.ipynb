{
  "cells": [
    {
      "cell_type": "markdown",
      "metadata": {},
      "source": [
        "# Ejercicios\n",
        "\n",
        "## 1.- Básico\n",
        "\n",
        "### Ejercicio 1.1\n",
        "Escribir por pantalla ejemplos de cadenas, numeros enteros y numeros con coma flotante."
      ]
    },
    {
      "cell_type": "code",
      "execution_count": 8,
      "metadata": {},
      "outputs": [],
      "source": []
    },
    {
      "cell_type": "markdown",
      "metadata": {},
      "source": [
        "### Ejercicio 1.2\n",
        "Definir variables de distintos tipos y ver su valor utilizando la funcion type."
      ]
    },
    {
      "cell_type": "code",
      "execution_count": 9,
      "metadata": {},
      "outputs": [],
      "source": []
    },
    {
      "cell_type": "markdown",
      "metadata": {},
      "source": [
        "### Ejercicio 1.3\n",
        "Asignar valores a una variable e imprimir los resultados para ver como varían."
      ]
    },
    {
      "cell_type": "code",
      "execution_count": 10,
      "metadata": {},
      "outputs": [],
      "source": []
    },
    {
      "cell_type": "markdown",
      "metadata": {},
      "source": [
        "### Ejercicio 1.4\n",
        "Realizar algunas operaciones con operadores aritméticos, tanto con numeros enteros como en coma flotante."
      ]
    },
    {
      "cell_type": "code",
      "execution_count": 11,
      "metadata": {},
      "outputs": [],
      "source": []
    },
    {
      "cell_type": "markdown",
      "metadata": {},
      "source": [
        "### (?) Ejercicio 1.5\n",
        "Dada una variable `x`, escribir expresiones para calcular."
      ]
    },
    {
      "cell_type": "markdown",
      "metadata": {},
      "source": [
        "### Ejercicio 1.6\n",
        "Concatenar dos o mas cadenas utilizando el operador `+`."
      ]
    },
    {
      "cell_type": "markdown",
      "metadata": {},
      "source": [
        "### Ejercicio 1.7\n",
        "Formatear la cadena `Mi nombre es ... y tengo ... años.` aplicando operadores."
      ]
    },
    {
      "cell_type": "code",
      "execution_count": 12,
      "metadata": {},
      "outputs": [],
      "source": []
    },
    {
      "cell_type": "markdown",
      "metadata": {},
      "source": [
        "### Ejercicio 1.8\n",
        "Utilizar las funciones mas habituales sobre cadenas de texto."
      ]
    },
    {
      "cell_type": "code",
      "execution_count": 13,
      "metadata": {},
      "outputs": [],
      "source": []
    },
    {
      "cell_type": "markdown",
      "metadata": {},
      "source": [
        "### Ejercicio 1.9\n",
        "Dado un numero entero, escribir un programa que imprima por pantalla si el numero es positivo o negativo."
      ]
    },
    {
      "cell_type": "code",
      "execution_count": 14,
      "metadata": {},
      "outputs": [],
      "source": []
    },
    {
      "cell_type": "markdown",
      "metadata": {},
      "source": [
        "### Ejercicio 1.10\n",
        "Dado el rango `[x,y]`, escribe un programa que imprima por pantalla la secuencia de numeros enteros dentro de dicho rango."
      ]
    },
    {
      "cell_type": "code",
      "execution_count": 15,
      "metadata": {},
      "outputs": [],
      "source": []
    },
    {
      "cell_type": "markdown",
      "metadata": {},
      "source": [
        "### Ejercicio 1.11\n",
        "Algunas sentencias pueden generar excepciones.\n",
        "- La division por cero *(ZeroDivisionError)*.\n",
        "- La conversion (casting) de string a int o float puede generar una excepción del tipo *ValueError*.\n",
        "\n",
        "Definir una funcion que convierta una cadena a un int o float.\n",
        "\n",
        "```py\n",
        "#### Manejo de Excepciones\n",
        "try:\n",
        "    #...\t\t\t# intenta ejecutar el bloque de código\n",
        "except Exception:       # si no es posible, genera una excepción\n",
        "    #...\t\t\t# hace algo con la excepción\n",
        "finally:\t\t# finally se ejecuta siempre\n",
        "```"
      ]
    },
    {
      "cell_type": "code",
      "execution_count": 16,
      "metadata": {},
      "outputs": [],
      "source": []
    },
    {
      "cell_type": "markdown",
      "metadata": {},
      "source": [
        "## 2.- Listas\n",
        "\n",
        "### Ejercicio 2.1\n",
        "Crear una lista que contenga numeros y cadenas de caracteres e imprimir la lista."
      ]
    },
    {
      "cell_type": "code",
      "execution_count": 17,
      "metadata": {},
      "outputs": [],
      "source": []
    },
    {
      "cell_type": "markdown",
      "metadata": {},
      "source": [
        "### Ejercicio 2.2\n",
        "Crear una nueva lista que contenga todos los elementos enteros de la lista anterior y la imprima.\n",
        "\n",
        "_Para comprobar que un objeto es de tipo int se utiliza la función:_\n",
        "```py \n",
        "isinstance(obj, int)\n",
        "```"
      ]
    },
    {
      "cell_type": "code",
      "execution_count": 18,
      "metadata": {},
      "outputs": [],
      "source": []
    },
    {
      "cell_type": "markdown",
      "metadata": {},
      "source": [
        "### Ejercicio 2.3\n",
        "Definir una funcion que devuelva el minimo de una lista de numeros teniendo en cuenta que:\n",
        "- Debe devolver _None_ si no tiene elementos.\n",
        "- Tiene que utilizar infinito para empezar la comparacion.\n",
        "\n",
        "_Se puede representar el infinito importando el módulo math:_\n",
        "```py\n",
        "import math\n",
        "x = math.inf\t# x = infinito\n",
        "```\n",
        "_Para obtener la longitud de un objeto se utiliza la función: _\n",
        "```py\n",
        "len(obj)\n",
        "```"
      ]
    },
    {
      "cell_type": "code",
      "execution_count": 19,
      "metadata": {},
      "outputs": [],
      "source": []
    },
    {
      "cell_type": "markdown",
      "metadata": {},
      "source": [
        "### Ejercicio 2.4\n",
        "Definir una funcion que devuelva el máximo de una lista de números teniendo en cuenta que:\n",
        "- La funcion debe devolver None si la lista no tiene elementos.\n",
        "- Tiene que utilizar el primer elemento de la lista para empezar la comparacion.\n",
        "\n",
        "_Una lista se puede cortar:_\n",
        "```py\n",
        "lista[1:]\t# Empieza en el segundo elemento\n",
        "lista[2:4]\t# Empieza en el tercer elemento y termina en el quinto\n",
        "lista[:3]\t# Empieza en el primer elemento y termina en el cuarto\n",
        "```"
      ]
    },
    {
      "cell_type": "code",
      "execution_count": 20,
      "metadata": {},
      "outputs": [],
      "source": []
    },
    {
      "cell_type": "markdown",
      "metadata": {},
      "source": [
        "### Ejercicio 2.5\n",
        "Imprimir la lista, el minimo y el máximo elemento utilizando las funciones anteriores."
      ]
    },
    {
      "cell_type": "code",
      "execution_count": 21,
      "metadata": {},
      "outputs": [],
      "source": []
    },
    {
      "cell_type": "markdown",
      "metadata": {},
      "source": [
        "### Ejercicio 2.6\n",
        "Escribir un programa que lea una lista de números (enteros, coma flotante) e imprima el minimo y el máximo.\n",
        "\n",
        "_Para obtener el texto escrito por teclado utilice la función:_\n",
        "```py \n",
        "input(prompt)   # prompt se escribe en la pantalla\n",
        "```\n",
        "_Se cambia el tipo de una variable (casting) utilizando la sentencia tipo(variable)._\n",
        "\n",
        "_Por ejemplo:_\n",
        "```py \n",
        "x = int('3')    # x es de tipo int\n",
        "```\n",
        "\n",
        "_**Algunas expresiones pueden generar excepciones.**_"
      ]
    },
    {
      "cell_type": "code",
      "execution_count": null,
      "metadata": {},
      "outputs": [],
      "source": []
    },
    {
      "cell_type": "markdown",
      "metadata": {},
      "source": [
        "## 3.- Diccionarios\n",
        "\n",
        "### Ejercicio 3.1\n",
        "Crear un diccionario que contenga algunos elementos."
      ]
    },
    {
      "cell_type": "code",
      "execution_count": 23,
      "metadata": {},
      "outputs": [],
      "source": []
    },
    {
      "cell_type": "markdown",
      "metadata": {},
      "source": [
        "### Ejercicio 3.2\n",
        "Añadir mas atributos al diccionario."
      ]
    },
    {
      "cell_type": "code",
      "execution_count": 24,
      "metadata": {},
      "outputs": [],
      "source": []
    },
    {
      "cell_type": "markdown",
      "metadata": {},
      "source": [
        "### Ejercicio 3.3\n",
        "Actualizar un atributo del diccionario."
      ]
    },
    {
      "cell_type": "code",
      "execution_count": 25,
      "metadata": {},
      "outputs": [],
      "source": []
    },
    {
      "cell_type": "markdown",
      "metadata": {},
      "source": [
        "### Ejercicio 3.4\n",
        "Borrar un atributo del diccionario."
      ]
    },
    {
      "cell_type": "code",
      "execution_count": 26,
      "metadata": {},
      "outputs": [],
      "source": []
    },
    {
      "cell_type": "markdown",
      "metadata": {},
      "source": [
        "### Ejercicio 3.5\n",
        "Dado un diccionario, escribir un programa que imprima por pantalla sólo los atributos de tipo int."
      ]
    },
    {
      "cell_type": "code",
      "execution_count": 27,
      "metadata": {},
      "outputs": [],
      "source": []
    },
    {
      "cell_type": "markdown",
      "metadata": {},
      "source": [
        "### Ejercicio 3.6\n",
        "Escribir un programa que compruebe si el usuario y la contraseña son válidos.\n",
        "- Definir una funcion.\n",
        "- La funcion recibe como parámetros un diccionario de usuarios con sus contraseñas, un usuario y una contraseña.\n",
        "- La funcion devuelve una cadena `Usuario inexistente'`, `'Clave errónea'`, `'Ok'`"
      ]
    },
    {
      "cell_type": "code",
      "execution_count": 28,
      "metadata": {},
      "outputs": [],
      "source": []
    },
    {
      "cell_type": "markdown",
      "metadata": {},
      "source": [
        "### Ejercicio 3.7\n",
        "Define una función que invierta un diccionario.\n",
        "\n",
        "_Entrada:_\n",
        "```py\n",
        "{'atr1': 'val1', 'atr2': 'val1', 'atr3': 'val2' }\n",
        "```\n",
        "_Salida:_\n",
        "```py\n",
        "{'val1': [ 'atr1', 'atr2' ], 'val2': 'atr3'}\n",
        "```"
      ]
    },
    {
      "cell_type": "code",
      "execution_count": 29,
      "metadata": {},
      "outputs": [],
      "source": []
    },
    {
      "cell_type": "markdown",
      "metadata": {},
      "source": [
        "### Ejercicio 3.8 \n",
        "En bioinformática, un k-mer es una subsecuencia de longitud k contenida en una secuencia biológica. \n",
        "Define una función que devuelva un diccionario de recuentos de k-mers.\n",
        "\n",
        "_Ejemplo 2-mer, entrada:_\n",
        "```py\n",
        "    'gtagagctgt'\n",
        "```\n",
        "_Salida:_\n",
        "```py\n",
        "    { 'gt': 2, 'ta': 1, 'ag': 2, 'ga': 1, 'gc': 1, 'ct': 1, 'tg': 1 }\n",
        "```"
      ]
    },
    {
      "cell_type": "code",
      "execution_count": 30,
      "metadata": {},
      "outputs": [],
      "source": []
    },
    {
      "cell_type": "markdown",
      "metadata": {},
      "source": [
        "## 4.- Clases\n",
        "## Ejercicio 4.1\n",
        "Crear una clase Rectangulo.\n",
        "- El constructor de la clase admite dos parámetros: base y altura.\n",
        "- La función area() devuelve el área del rectángulo (base x altura).\n",
        "- describir() devuelve una cadena que describe el rectángulo.\n",
        "_Ejemplo:_\n",
        "```py\n",
        "    r = Rectangulo(4, 2)\n",
        "    r.area()      # 4\n",
        "    r.describir() # { Rectangulo: base = 4, altura = 2 }\n",
        "```"
      ]
    },
    {
      "cell_type": "code",
      "execution_count": 31,
      "metadata": {},
      "outputs": [],
      "source": []
    }
  ],
  "metadata": {
    "kernelspec": {
      "display_name": "Python 3",
      "language": "python",
      "name": "python3"
    },
    "language_info": {
      "codemirror_mode": {
        "name": "ipython",
        "version": 3
      },
      "file_extension": ".py",
      "mimetype": "text/x-python",
      "name": "python",
      "nbconvert_exporter": "python",
      "pygments_lexer": "ipython3",
      "version": "3.7.5"
    }
  },
  "nbformat": 4,
  "nbformat_minor": 4
}
